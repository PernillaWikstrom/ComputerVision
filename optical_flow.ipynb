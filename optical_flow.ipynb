{
  "cells": [
    {
      "cell_type": "code",
      "execution_count": null,
      "metadata": {
        "id": "1V1gMlrFxYIr"
      },
      "outputs": [],
      "source": [
        "import cv2\n",
        "import numpy as np\n",
        "import time"
      ]
    },
    {
      "cell_type": "code",
      "execution_count": null,
      "metadata": {
        "colab": {
          "base_uri": "https://localhost:8080/"
        },
        "id": "2HWGuE6n_Nna",
        "outputId": "98a33911-a54c-4165-8e6b-8a7f87c53855"
      },
      "outputs": [
        {
          "output_type": "stream",
          "name": "stdout",
          "text": [
            "Drive already mounted at /content/drive; to attempt to forcibly remount, call drive.mount(\"/content/drive\", force_remount=True).\n"
          ]
        }
      ],
      "source": [
        "from google.colab import drive\n",
        "drive.mount('/content/drive')"
      ]
    },
    {
      "cell_type": "code",
      "execution_count": null,
      "metadata": {
        "colab": {
          "base_uri": "https://localhost:8080/"
        },
        "id": "7iSb8dYo_PqQ",
        "outputId": "1ea9849d-b064-4eba-95bd-ba134db019fc"
      },
      "outputs": [
        {
          "output_type": "stream",
          "name": "stdout",
          "text": [
            "/content/drive/MyDrive/2023colab\n"
          ]
        }
      ],
      "source": [
        "%cd /content/drive/MyDrive/2023colab/"
      ]
    },
    {
      "cell_type": "code",
      "execution_count": null,
      "metadata": {
        "id": "UPwJVmn1Abzu"
      },
      "outputs": [],
      "source": [
        "lk_params = dict(winSize=(15, 15),\n",
        "                 maxLevel=2,\n",
        "                 criteria=(cv2.TERM_CRITERIA_EPS | cv2.TERM_CRITERIA_COUNT, 10, 0.03))\n",
        "\n",
        "feature_params = dict(maxCorners=10,\n",
        "                      qualityLevel=0.7,\n",
        "                      minDistance=10,\n",
        "                      blockSize=7)\n",
        "\n",
        "\n",
        "trajectory_len = 40\n",
        "detect_interval = 5\n",
        "trajectories = []\n",
        "frame_idx = 0\n",
        "\n",
        "cap = cv2.VideoCapture(\"DJI_0574.MP4\")\n"
      ]
    },
    {
      "cell_type": "code",
      "source": [
        "fps = cap.get(cv2.CAP_PROP_FPS)\n",
        "num_frames = cap.get(cv2.CAP_PROP_FRAME_COUNT)\n",
        "duration = float(num_frames) / float(fps)"
      ],
      "metadata": {
        "id": "Y7azfl4PLmBm"
      },
      "execution_count": null,
      "outputs": []
    },
    {
      "cell_type": "code",
      "execution_count": null,
      "metadata": {
        "id": "oG6OajqJBv8x"
      },
      "outputs": [],
      "source": [
        "# We need to check if camera\n",
        "# is opened previously or not\n",
        "if (cap.isOpened() == False): \n",
        "    print(\"Error reading video file\")\n",
        "  \n",
        "# We need to set resolutions.\n",
        "# so, convert them from float to integer.\n",
        "frame_width = int(cap.get(3))\n",
        "frame_height = int(cap.get(4))\n",
        "   \n",
        "size = (frame_width, frame_height)\n",
        "   \n",
        "# Below VideoWriter object will create\n",
        "# a frame of above defined The output \n",
        "# is stored in 'filename.avi' file.\n",
        "result = cv2.VideoWriter('optical_flow_max_corners10.avi', \n",
        "                         cv2.VideoWriter_fourcc(*'MJPG'),\n",
        "                         10, size)"
      ]
    },
    {
      "cell_type": "code",
      "execution_count": null,
      "metadata": {
        "colab": {
          "base_uri": "https://localhost:8080/"
        },
        "id": "HgD1dC_m_-5H",
        "outputId": "a1d27399-8324-4181-8e8e-569c7224dfef"
      },
      "outputs": [
        {
          "output_type": "stream",
          "name": "stdout",
          "text": [
            "32.32758021354675\n"
          ]
        }
      ],
      "source": [
        "timer = time.time()\n",
        "\n",
        "while True:\n",
        "\n",
        "    # start time to calculate FPS\n",
        "    start = time.time()\n",
        "\n",
        "    suc, frame = cap.read()\n",
        "    frame_gray = cv2.cvtColor(frame, cv2.COLOR_BGR2GRAY)\n",
        "    img = frame.copy()\n",
        "\n",
        "    # Calculate optical flow for a sparse feature set using the iterative Lucas-Kanade Method\n",
        "    if len(trajectories) > 0:\n",
        "        img0, img1 = prev_gray, frame_gray\n",
        "        p0 = np.float32([trajectory[-1]\n",
        "                        for trajectory in trajectories]).reshape(-1, 1, 2)\n",
        "        p1, _st, _err = cv2.calcOpticalFlowPyrLK(\n",
        "            img0, img1, p0, None, **lk_params)\n",
        "        p0r, _st, _err = cv2.calcOpticalFlowPyrLK(\n",
        "            img1, img0, p1, None, **lk_params)\n",
        "        d = abs(p0-p0r).reshape(-1, 2).max(-1)\n",
        "        good = d < 1\n",
        "\n",
        "        new_trajectories = []\n",
        "\n",
        "        # Get all the trajectories\n",
        "        for trajectory, (x, y), good_flag in zip(trajectories, p1.reshape(-1, 2), good):\n",
        "            if not good_flag:\n",
        "                continue\n",
        "            trajectory.append((x, y))\n",
        "            if len(trajectory) > trajectory_len:\n",
        "                del trajectory[0]\n",
        "            new_trajectories.append(trajectory)\n",
        "            # Newest detected point\n",
        "            cv2.circle(img, (int(x), int(y)), 2, (0, 0, 255), -1)\n",
        "\n",
        "        trajectories = new_trajectories\n",
        "\n",
        "        # Draw all the trajectories\n",
        "        cv2.polylines(img, [np.int32(trajectory)\n",
        "                      for trajectory in trajectories], False, (0, 255, 0))\n",
        "        cv2.putText(img, 'track count: %d' % len(trajectories),\n",
        "                    (20, 50), cv2.FONT_HERSHEY_PLAIN, 1, (0, 255, 0), 2)\n",
        "\n",
        "    # Update interval - When to update and detect new features\n",
        "    if frame_idx % detect_interval == 0:\n",
        "        mask = np.zeros_like(frame_gray)\n",
        "        mask[:] = 255\n",
        "\n",
        "        # Lastest point in latest trajectory\n",
        "        for x, y in [np.int32(trajectory[-1]) for trajectory in trajectories]:\n",
        "            cv2.circle(mask, (x, y), 5, 0, -1)\n",
        "\n",
        "        # Detect the good features to track\n",
        "        p = cv2.goodFeaturesToTrack(frame_gray, mask=mask, **feature_params)\n",
        "        if p is not None:\n",
        "            # If good features can be tracked - add that to the trajectories\n",
        "            for x, y in np.float32(p).reshape(-1, 2):\n",
        "                trajectories.append([(x, y)])\n",
        "\n",
        "    frame_idx += 1\n",
        "    prev_gray = frame_gray\n",
        "\n",
        "    # End time\n",
        "    end = time.time()\n",
        "    # calculate the FPS for current frame detection\n",
        "    fps = 1 / (end-start)\n",
        "\n",
        "    # Show Results\n",
        "    cv2.putText(img, f\"{fps:.2f} FPS\", (20, 30),\n",
        "                cv2.FONT_HERSHEY_SIMPLEX, 1, (0, 255, 0), 2)\n",
        "    result.write(img)\n",
        "    #cv2.imshow('Optical Flow', img)\n",
        "    #cv2.imshow('Mask', mask)\n",
        "\n",
        "    if cv2.waitKey(10) & 0xFF == ord('q'):\n",
        "        break\n",
        "    if (end - timer)> duration:\n",
        "      print(end- timer)\n",
        "      break\n",
        "\n",
        "\n",
        "cap.release()\n",
        "result.release()\n",
        "cv2.destroyAllWindows()\n"
      ]
    },
    {
      "cell_type": "code",
      "source": [
        "https://www.youtube.com/@NicolaiAI/playlists\n",
        "https://www.youtube.com/watch?v=hfXMw2dQO4E&list=PLkmvobsnE0GEo-D7DLnrYS1K4OemycX6k&index=25\n"
      ],
      "metadata": {
        "id": "lcItwQ71KZk1"
      },
      "execution_count": null,
      "outputs": []
    }
  ],
  "metadata": {
    "colab": {
      "provenance": []
    },
    "kernelspec": {
      "display_name": "Python 3",
      "name": "python3"
    },
    "language_info": {
      "name": "python"
    }
  },
  "nbformat": 4,
  "nbformat_minor": 0
}